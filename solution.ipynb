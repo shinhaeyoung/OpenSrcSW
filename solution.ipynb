{
 "cells": [
  {
   "cell_type": "code",
   "execution_count": 12,
   "metadata": {
    "scrolled": true
   },
   "outputs": [
    {
     "name": "stdout",
     "output_type": "stream",
     "text": [
      "(1, 2)\n",
      "(3, 4)\n",
      "(4, 6)\n"
     ]
    },
    {
     "ename": "AttributeError",
     "evalue": "'NoneType' object has no attribute 'show'",
     "output_type": "error",
     "traceback": [
      "\u001b[1;31m---------------------------------------------------------------------------\u001b[0m",
      "\u001b[1;31mAttributeError\u001b[0m                            Traceback (most recent call last)",
      "\u001b[1;32m<ipython-input-12-87d56b16a485>\u001b[0m in \u001b[0;36m<module>\u001b[1;34m\u001b[0m\n\u001b[0;32m     16\u001b[0m     \u001b[0mb\u001b[0m\u001b[1;33m.\u001b[0m\u001b[0mshow\u001b[0m\u001b[1;33m(\u001b[0m\u001b[1;33m)\u001b[0m\u001b[1;33m\u001b[0m\u001b[1;33m\u001b[0m\u001b[0m\n\u001b[0;32m     17\u001b[0m     \u001b[0ma\u001b[0m \u001b[1;33m=\u001b[0m \u001b[0ma\u001b[0m\u001b[1;33m+\u001b[0m\u001b[0mb\u001b[0m\u001b[1;33m\u001b[0m\u001b[1;33m\u001b[0m\u001b[0m\n\u001b[1;32m---> 18\u001b[1;33m     \u001b[0ma\u001b[0m\u001b[1;33m.\u001b[0m\u001b[0mshow\u001b[0m\u001b[1;33m(\u001b[0m\u001b[1;33m)\u001b[0m\u001b[1;33m\u001b[0m\u001b[1;33m\u001b[0m\u001b[0m\n\u001b[0m",
      "\u001b[1;31mAttributeError\u001b[0m: 'NoneType' object has no attribute 'show'"
     ]
    }
   ],
   "source": [
    "# 1\n",
    "\n",
    "class Point:\n",
    "    def __init__(self, x, y):\n",
    "        self.x = int(x)\n",
    "        self.y = int(y)\n",
    "    def show(self):\n",
    "        print(\"({0}, {1})\".format(self.x, self.y))\n",
    "    def __add__(self, other):\n",
    "        print(\"({0}, {1})\".format(int(self.x+other.x), int(self.y+other.y)))\n",
    "        \n",
    "if __name__==\"__main__\":\n",
    "    a = Point(1, 2)\n",
    "    a.show()\n",
    "    b = Point(3, 4)\n",
    "    b.show()\n",
    "    a = a+b\n",
    "    a.show()"
   ]
  },
  {
   "cell_type": "code",
   "execution_count": null,
   "metadata": {},
   "outputs": [],
   "source": [
    "# 2\n",
    "\n",
    "import csv\n",
    "\n",
    "f = open('seoul.csv')\n",
    "data = csv.reader(f)\n",
    "header = next(data)\n",
    "\n",
    "maxTemp = -999\n",
    "minTemp = 999\n",
    "diffTemp = 0\n",
    "maxDate = minDate = diffDate = \"\"\n",
    "count = 0\n",
    "\n",
    "for row in data:\n",
    "    if row[-1] == '':\n",
    "        row[-1] = -999\n",
    "    if row[-2] == '':\n",
    "        row[-2] = 999\n",
    "    \n",
    "    for i in count + range(7): #0-6\n",
    "        row[-1] = float(row[-1]) # 최고기온\n",
    "        row[-2] = float(row[-2]) # 최저기온\n",
    "        if maxTemp < row[-1]:\n",
    "            maxDate = row[0]\n",
    "            maxTemp = row[-1]\n",
    "        if minTemp < row[-2]:\n",
    "            minDate = row[0]\n",
    "            minTemp = row[-2]\n",
    "        diff = row[-1] - row[-2]\n",
    "        if diffTemp < row[0]:\n",
    "            diffDate = row[0]\n",
    "            diffTemp = diff\n",
    "    \n",
    "    count++\n",
    "        "
   ]
  }
 ],
 "metadata": {
  "kernelspec": {
   "display_name": "Python 3",
   "language": "python",
   "name": "python3"
  },
  "language_info": {
   "codemirror_mode": {
    "name": "ipython",
    "version": 3
   },
   "file_extension": ".py",
   "mimetype": "text/x-python",
   "name": "python",
   "nbconvert_exporter": "python",
   "pygments_lexer": "ipython3",
   "version": "3.7.6"
  }
 },
 "nbformat": 4,
 "nbformat_minor": 4
}
