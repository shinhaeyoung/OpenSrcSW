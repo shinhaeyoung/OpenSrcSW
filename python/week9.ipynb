{
 "cells": [
  {
   "cell_type": "code",
   "execution_count": 9,
   "metadata": {},
   "outputs": [
    {
     "name": "stdout",
     "output_type": "stream",
     "text": [
      "x값: 2\n",
      "y값: -25.0\n"
     ]
    }
   ],
   "source": [
    "# 실습문제 1-1 :수치 계산\n",
    "\n",
    "# x값을 입력 받아 2차 방정식의 y값을 계산하는 프로그램\n",
    "# -y=3x^2+5x+3\n",
    "\n",
    "x = float(input(\"x값: \"))\n",
    "y = 3*(x ** 2) + 5*x + 3\n",
    "y = (-1)*y\n",
    "print(\"y값:\", y)"
   ]
  },
  {
   "cell_type": "code",
   "execution_count": 13,
   "metadata": {},
   "outputs": [
    {
     "name": "stdout",
     "output_type": "stream",
     "text": [
      "반지름: 3.6\n",
      "둘레: 22.608\n",
      "넓이: 40.6944\n"
     ]
    }
   ],
   "source": [
    "# 실습문제 1-2 :수치 계산\n",
    "\n",
    "# 반지름을 입력 받아 원의 둘레와 넓이를 구하는 프로그램\n",
    "# pi = 3.14\n",
    "\n",
    "r = float(input(\"반지름: \"))\n",
    "if (r <= 0) :\n",
    "    print(\"반지름은 양수이어야합니다.\")\n",
    "else :\n",
    "    pi = 3.14\n",
    "    l = 2*pi*r\n",
    "    s = pi*(r ** 2)\n",
    "    print(\"둘레:\", l)\n",
    "    print(\"넓이:\", s)"
   ]
  },
  {
   "cell_type": "code",
   "execution_count": null,
   "metadata": {},
   "outputs": [],
   "source": []
  }
 ],
 "metadata": {
  "kernelspec": {
   "display_name": "Python 3",
   "language": "python",
   "name": "python3"
  },
  "language_info": {
   "codemirror_mode": {
    "name": "ipython",
    "version": 3
   },
   "file_extension": ".py",
   "mimetype": "text/x-python",
   "name": "python",
   "nbconvert_exporter": "python",
   "pygments_lexer": "ipython3",
   "version": "3.7.6"
  }
 },
 "nbformat": 4,
 "nbformat_minor": 4
}
