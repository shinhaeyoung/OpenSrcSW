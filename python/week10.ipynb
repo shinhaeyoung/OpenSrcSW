{
 "cells": [
  {
   "cell_type": "code",
   "execution_count": 5,
   "metadata": {},
   "outputs": [
    {
     "name": "stdout",
     "output_type": "stream",
     "text": [
      "Numbers: 10 456 75 89.7 1576.6\n",
      "[10.0, 456.0, 75.0, 89.7, 1576.6]\n",
      "Max = 1576.6\n"
     ]
    }
   ],
   "source": [
    "# 실습문제 2: 최대값 구하기\n",
    "# 숫자열을 입력 받아 최대값을 찾아내는 프로그램\n",
    "\n",
    "numbers = input(\"Numbers: \")\n",
    "numberlist = list(map(float, numbers.split()))\n",
    "#print(numberlist)\n",
    "print(\"Max = {}\".format(max(numberlist)))"
   ]
  },
  {
   "cell_type": "code",
   "execution_count": 10,
   "metadata": {},
   "outputs": [
    {
     "name": "stdout",
     "output_type": "stream",
     "text": [
      "1.암호화\t2.복호화\t3.종료\n",
      "선택: 1\n",
      "code for encryption: abc def wegh\n",
      "암호화: xfhi efg bcd\n",
      "1.암호화\t2.복호화\t3.종료\n",
      "선택: 2\n",
      "code for decryption: xfhi efg bcd\n",
      "복호화: abc def wegh\n",
      "1.암호화\t2.복호화\t3.종료\n",
      "선택: 3\n"
     ]
    }
   ],
   "source": [
    "# 실습문제 3: 암호화/복호화\n",
    "# 암호화: 공백(스페이스, 탭)으로 분리하고 역순으로 배치, 아스키코드 1씩 증가\n",
    "# 복호화: 아스키코드 1씩 감소, 공백(스페이스, 탭)으로 분리하고 역순으로 배치\n",
    "\n",
    "while 1:\n",
    "    print(\"1.암호화\\t2.복호화\\t3.종료\")\n",
    "    select = int(input(\"선택: \"))\n",
    "\n",
    "    if select == 1:\n",
    "        code = input(\"code for encryption: \")\n",
    "        reversed_code = code.split()[::-1]\n",
    "    \n",
    "        increased_code = list()\n",
    "        for str in reversed_code:\n",
    "            temp = \"\"\n",
    "            for ch in str:\n",
    "                temp += chr(ord(ch)+1)\n",
    "            increased_code.append(temp)\n",
    "\n",
    "        encryption = \" \".join(increased_code)\n",
    "        print(\"암호화: {}\".format(encryption))\n",
    "    elif select == 2:\n",
    "        code = input(\"code for decryption: \").split()\n",
    "    \n",
    "        decreased_code = list()\n",
    "        for str in code:\n",
    "            temp = \"\"\n",
    "            for ch in str:\n",
    "                temp += chr(ord(ch)-1)\n",
    "            decreased_code.append(temp)\n",
    "\n",
    "        reversed_code = decreased_code[::-1]\n",
    "\n",
    "        decryption = \" \".join(reversed_code)\n",
    "        print(\"복호화: {}\".format(decryption))\n",
    "    else:\n",
    "        break\n"
   ]
  },
  {
   "cell_type": "code",
   "execution_count": 4,
   "metadata": {
    "scrolled": true
   },
   "outputs": [
    {
     "name": "stdout",
     "output_type": "stream",
     "text": [
      "전화번호부 생성\n",
      "이름과 전화번호를 한 쌍으로 간주\n",
      "각 쌍은 ','로 구분하며 이름과 전화번호는 ' '로 구분\n",
      "이름 전화번호 10쌍 입력 (ex. abc 123,cdf 456,ghi 789 ...): a 1,b 2,c 3,d 4,e 5,f 6,g 7,h 8,i 9,j 10\n",
      "1.이름으로 검색\t2.전화번호로 검색\t3.종료\n",
      "선택: 1\n",
      "검색할 이름: e\n",
      "e의 전화번호는 5\n",
      "1.이름으로 검색\t2.전화번호로 검색\t3.종료\n",
      "선택: 1\n",
      "검색할 이름: k\n",
      "k의 전화번호가 없음\n",
      "1.이름으로 검색\t2.전화번호로 검색\t3.종료\n",
      "선택: 2\n",
      "검색할 전화번호: 8\n",
      "전화번호가 8인 사람은 h\n",
      "1.이름으로 검색\t2.전화번호로 검색\t3.종료\n",
      "선택: 2\n",
      "검색할 전화번호: 65\n",
      "전화번호가 65인 사람이 없음\n",
      "1.이름으로 검색\t2.전화번호로 검색\t3.종료\n",
      "선택: 3\n"
     ]
    }
   ],
   "source": [
    "# 실습문제 4: 전화번호부\n",
    "# 10명의 이름과 전화번호를 입력받아 전화번호 사전 생성 및 검색하는 프로그램\n",
    "\n",
    "print(\"전화번호부 생성\")\n",
    "print(\"이름과 전화번호를 한 쌍으로 간주\")\n",
    "print(\"각 쌍은 ','로 구분하며 이름과 전화번호는 ' '로 구분\")\n",
    "data = input(\"이름 전화번호 10쌍 입력 (ex. abc 123,cdf 456,ghi 789 ...): \")\n",
    "\n",
    "telbook = dict()\n",
    "for i in range(10):\n",
    "    name, tel = data.split(\",\")[i].split()\n",
    "    telbook[name] = tel\n",
    "#print(telbook)\n",
    "\n",
    "while 1:\n",
    "    print(\"1.이름으로 검색\\t2.전화번호로 검색\\t3.종료\")\n",
    "    select = int(input(\"선택: \"))\n",
    "\n",
    "    if select == 1:\n",
    "        name = input(\"검색할 이름: \")\n",
    "        if name in telbook:\n",
    "            tel = telbook.get(name)\n",
    "            print(\"{0}의 전화번호는 {1}\".format(name, tel))\n",
    "        else:\n",
    "            print(\"{0}의 전화번호가 없음\".format(name))\n",
    "    elif select == 2:\n",
    "        tel = input(\"검색할 전화번호: \")\n",
    "        name = \"\"\n",
    "        for key, value in telbook.items():\n",
    "            if value == tel:\n",
    "                name = key\n",
    "        if name != \"\":\n",
    "            print(\"전화번호가 {0}인 사람은 {1}\".format(tel, name))\n",
    "        else:\n",
    "            print(\"전화번호가 {0}인 사람이 없음\".format(tel))\n",
    "    else:\n",
    "        break"
   ]
  },
  {
   "cell_type": "code",
   "execution_count": null,
   "metadata": {},
   "outputs": [],
   "source": []
  }
 ],
 "metadata": {
  "kernelspec": {
   "display_name": "Python 3",
   "language": "python",
   "name": "python3"
  },
  "language_info": {
   "codemirror_mode": {
    "name": "ipython",
    "version": 3
   },
   "file_extension": ".py",
   "mimetype": "text/x-python",
   "name": "python",
   "nbconvert_exporter": "python",
   "pygments_lexer": "ipython3",
   "version": "3.7.6"
  }
 },
 "nbformat": 4,
 "nbformat_minor": 4
}
