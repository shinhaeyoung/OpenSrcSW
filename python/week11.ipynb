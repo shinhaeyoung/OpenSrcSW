{
 "cells": [
  {
   "cell_type": "code",
   "execution_count": 3,
   "metadata": {},
   "outputs": [
    {
     "name": "stdout",
     "output_type": "stream",
     "text": [
      "cp 파일이름1 파일이름2\n",
      "입력: cp file1 file2\n",
      "201811191 신해영\n",
      "OpenSrcSW 실습 중\n",
      "마음만은 1학년 코로나야 물러가라\n"
     ]
    }
   ],
   "source": [
    "# 실습문제 6: copy\n",
    "\n",
    "# Unix의 cp 명령어 구현\n",
    "# cp file1 file2 //file1을 file2에 복사\n",
    "\n",
    "command = input(\"cp 파일이름1 파일이름2\\n입력: \").split()\n",
    "if command[0] == 'cp':\n",
    "    file = open(command[1]+'.txt', 'rt', encoding='UTF8')\n",
    "    copy_file = open(command[2]+'.txt', 'w')\n",
    "    \n",
    "    copy_file.write(file.read())\n",
    "    file.close()\n",
    "    copy_file.close()\n",
    "    \n",
    "# 확인용\n",
    "#f = open(command[2]+'.txt', 'r')\n",
    "#print(f.read())"
   ]
  },
  {
   "cell_type": "code",
   "execution_count": 6,
   "metadata": {},
   "outputs": [
    {
     "name": "stdout",
     "output_type": "stream",
     "text": [
      "wc 파일이름\n",
      "입력: wc file1\n",
      "파일 file1의 라인 수: 3\n",
      "파일 file1의 단어 수: 9\n"
     ]
    }
   ],
   "source": [
    "# 실습문제 7: wc\n",
    "\n",
    "# Unix의 wc 명령어 구현\n",
    "# wc file1 //file1의 라인 수, 단어 수 출력 (단어는 공백으로 구분된 스트링임을 가정)\n",
    "\n",
    "command = input(\"wc 파일이름\\n입력: \").split()\n",
    "if command[0] == 'wc':\n",
    "    file = open(command[1]+'.txt', 'rt', encoding='UTF8')\n",
    "    lines = file.readlines()\n",
    "    file.close()\n",
    "    print(\"파일 {0}의 라인 수: {1}\".format(command[1], len(lines)))\n",
    "    sum = 0\n",
    "    for line in lines:\n",
    "        words = line.split()\n",
    "        sum += len(words)\n",
    "    print(\"파일 {0}의 단어 수: {1}\".format(command[1], sum))"
   ]
  },
  {
   "cell_type": "code",
   "execution_count": 9,
   "metadata": {},
   "outputs": [
    {
     "name": "stdout",
     "output_type": "stream",
     "text": [
      "1 + 5 = 6 입니다.\n",
      "5 - 1 = 4 입니다.\n",
      "2 * 3 = 6 입니다.\n",
      "6 / 2 = 3.0 입니다\n"
     ]
    }
   ],
   "source": [
    "# 실습문제 8: 사칙 연산 클래스\n",
    "class Calc:\n",
    "    def sum(self, a, b):\n",
    "        result = a + b\n",
    "        print(\"{0} + {1} = {2} 입니다.\".format(a, b, result))\n",
    "    def sub(self, a, b):\n",
    "        result = a - b\n",
    "        print(\"{0} - {1} = {2} 입니다.\".format(a, b, result))\n",
    "    def multi(self, a, b):\n",
    "        result = a * b\n",
    "        print(\"{0} * {1} = {2} 입니다.\".format(a, b, result))\n",
    "    def divi(self, a, b):\n",
    "        if b == 0:\n",
    "            print(\"나눌 수 없습니다.\")\n",
    "        else:\n",
    "            result = a / b\n",
    "            print(\"{0} / {1} = {2} 입니다\".format(a, b, result))\n",
    "        \n",
    "if __name__ == \"__main__\":\n",
    "    calc = Calc()\n",
    "    calc.sum(1,5)\n",
    "    calc.sub(5,1)\n",
    "    calc.multi(2,3)\n",
    "    calc.divi(6,2)"
   ]
  },
  {
   "cell_type": "code",
   "execution_count": 2,
   "metadata": {},
   "outputs": [
    {
     "name": "stdout",
     "output_type": "stream",
     "text": [
      "계산식 입력: 1 + 2 - 3 * 4 + 5\n",
      "[1, 2, '+', 3, 4, '*', '-', 5, '+']\n",
      "계산식 출력: 1+2-3*4+5=-4\n"
     ]
    }
   ],
   "source": [
    "# 실습문제 9: 계산기\n",
    "\n",
    "# 공백으로 구분되어 있는 계산식이 입력되면, 스택을 이용하여 계산 수행 후 결과 출력\n",
    "\n",
    "class Stack:\n",
    "    def __init__(self):\n",
    "        self.stack = []\n",
    "    def push(self, data):\n",
    "        self.stack.append(data)\n",
    "    def pop(self):\n",
    "        if not self.isEmpty():\n",
    "            return self.stack.pop()\n",
    "    def size(self):\n",
    "        return len(self.stack)\n",
    "    def isEmpty(self):\n",
    "        return self.size() == 0\n",
    "    def peek(self):\n",
    "        return self.stack[-1]\n",
    "\n",
    "def toPostfix(charList):\n",
    "    dic = {'(':0, '+':1, '-':1, '*':2, '/':2}\n",
    "    op = Stack()\n",
    "    postfix = []\n",
    "    \n",
    "    for char in charList:\n",
    "        if char in '+-*/': # 연산자\n",
    "            # stack이 비어있을 경우\n",
    "            if op.isEmpty():\n",
    "                op.push(char)\n",
    "            else:\n",
    "                # stack에 data 존재할 동안\n",
    "                while op.size() > 0:\n",
    "                    # 우선 순위가 stack안에 있는 것이 높으면 pop\n",
    "                    if dic[op.peek()] >= dic[char]:\n",
    "                        postfix.append(op.pop())\n",
    "                    else:\n",
    "                        break\n",
    "                op.push(char)\n",
    "        elif char == '(':\n",
    "            op.push(char)\n",
    "        elif char == ')':\n",
    "            # '('을 만날 때까지 pop\n",
    "            while op.peek() != '(':\n",
    "                postfix.append(op.pop())\n",
    "            op.pop()\n",
    "        else: # 피연산자\n",
    "            postfix.append(int(char))\n",
    "                \n",
    "    # stack 빌 때까지 pop\n",
    "    while not op.isEmpty():\n",
    "        postfix.append(op.pop())\n",
    "        \n",
    "    return postfix \n",
    "\n",
    "def calcPostfix(postfix):\n",
    "    num = Stack()\n",
    "    \n",
    "    for char in postfix:\n",
    "        if type(char) is int:\n",
    "            num.push(char)\n",
    "        else:\n",
    "            num1 = num.pop()\n",
    "            num2 = num.pop()\n",
    "            if char == '+':\n",
    "                num.push(num2 + num1)\n",
    "            elif char == '-':\n",
    "                num.push(num2 - num1)\n",
    "            elif char == '*':\n",
    "                num.push(num2 * num1)\n",
    "            elif char == '/':\n",
    "                num.push(num2 / num1)\n",
    "    \n",
    "    return num.pop()\n",
    "\n",
    "if __name__ == \"__main__\":\n",
    "    exp = input(\"계산식 입력: \")\n",
    "    expList = exp.split()\n",
    "    postfixList = toPostfix(expList)\n",
    "    result = calcPostfix(postfixList)\n",
    "    print(\"계산식 출력: {0}={1}\".format(exp.replace(\" \",\"\"), result))"
   ]
  },
  {
   "cell_type": "code",
   "execution_count": null,
   "metadata": {},
   "outputs": [],
   "source": []
  }
 ],
 "metadata": {
  "kernelspec": {
   "display_name": "Python 3",
   "language": "python",
   "name": "python3"
  },
  "language_info": {
   "codemirror_mode": {
    "name": "ipython",
    "version": 3
   },
   "file_extension": ".py",
   "mimetype": "text/x-python",
   "name": "python",
   "nbconvert_exporter": "python",
   "pygments_lexer": "ipython3",
   "version": "3.7.6"
  }
 },
 "nbformat": 4,
 "nbformat_minor": 4
}
